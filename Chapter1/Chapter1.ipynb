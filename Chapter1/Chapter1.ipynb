{
 "cells": [
  {
   "cell_type": "markdown",
   "id": "08c3e4dc",
   "metadata": {},
   "source": [
    "# Multiperiod Binomial Model"
   ]
  },
  {
   "cell_type": "markdown",
   "id": "3f20f1c4",
   "metadata": {},
   "source": [
    "We are given a **derivative security** (either by formula or by explicit values) that takes on different values based on different realizations of a certain stock or asset. \n",
    "\n",
    "Our goal is to sell an option and then invest the profit into the **money market** (just gets interest `r`) or the **stock** (changes based on \"coin flip\" chance), such that our profits match the outcomes of the derivative security exactly. Determining that sell price will guarantee that there is no arbitrage in the market. \n",
    "\n",
    "Because this a multi-period situation, we can make a decision at every time step after seeing how the market moved. We can solve this exactly using dynamic programming / recursion."
   ]
  },
  {
   "cell_type": "markdown",
   "id": "8ee8e3a6",
   "metadata": {},
   "source": [
    "# The Setup"
   ]
  },
  {
   "cell_type": "markdown",
   "id": "a8edd72b",
   "metadata": {},
   "source": [
    "We set up the example using a stock `s` that evolves over `N` periods. We also have access to a money market with interest rate `r`. For this problem, we assume that `u` = `1/d`, so that the growth and decay rates cancel each other out in each time period. This crucial simplification simplifies state tabulation since it shrinks the total number of stock price possibilties to `2N+1` options. Thus, we can view state as all possible enumerations of stock price `s` and not realizations of the world (sequence of HTHTH...)."
   ]
  },
  {
   "cell_type": "code",
   "execution_count": 24,
   "id": "3d3807d5",
   "metadata": {},
   "outputs": [],
   "source": [
    "N = 3  # number of periods\n",
    "r = 0.25  # interest rate for money market\n",
    "s0 = 4  # initial value of the stock\n",
    "u = 2  # rate of growth of stock on a \"head\"\n",
    "d = 1 / 2  # rate of decrease of stock on a \"tail\"\n",
    "\n",
    "assert d < 1 + r < u # no arbertrage condition"
   ]
  },
  {
   "cell_type": "markdown",
   "id": "8ebdf4b0",
   "metadata": {},
   "source": [
    "Next we define the derivative security. A few examples are listed and defined below.\n",
    "\n",
    "**option**: a contract which gives the owner the right to sell (**put**)/buy(**call**) or a stock a certain price\n",
    "\n",
    "note: analyzing a lookback_put requires enumerating all realizations of the world and not stock prices since the stock-price paths are relevant for the final calculations. Although effficient approaches exist, I skip it in this analysis. "
   ]
  },
  {
   "cell_type": "code",
   "execution_count": 33,
   "id": "9be30140",
   "metadata": {},
   "outputs": [],
   "source": [
    "def european_put(strike_price, s_n):\n",
    "    \"\"\"\n",
    "    s_n: the price of the stock at expiration\n",
    "\n",
    "    A contract which gives the RIGHT to the holder to SELL a stock \n",
    "    at price strike_price when the time expires.\n",
    "\n",
    "    returns the payout to the owner of the contract.  \n",
    "    \"\"\"\n",
    "    return max(strike_price - s_n, 0)\n",
    "\n",
    "def european_call(strike_price, s_n):\n",
    "    \"\"\"\n",
    "    s_n: the price of the stock at expiration\n",
    "\n",
    "    A contract which gives the RIGHT to the holder to BUY a stock\n",
    "    at price strike_price when the time expires. \n",
    "\n",
    "    returns the payout to the owner of the contract.  \n",
    "    \"\"\"\n",
    "    return max(s_n - strike_price, 0)\n",
    "\n",
    "def lookback_put(s: list):\n",
    "    \"\"\"\n",
    "    s: ordered list of n stock valuations including the final value at expiration\n",
    "\n",
    "    A contract which gives the RIGHT to the holder to SELL a stock \n",
    "    at the highest valuation of the stock during its lifetime\n",
    "\n",
    "    returns the payout to the owner of the contract.  \n",
    "    \"\"\"\n",
    "    return max(s) - s[-1]\n"
   ]
  },
  {
   "cell_type": "markdown",
   "id": "b3bf7035",
   "metadata": {},
   "source": [
    "We use the european put with a strike price of 5"
   ]
  },
  {
   "cell_type": "code",
   "execution_count": 34,
   "id": "0bee78e1",
   "metadata": {},
   "outputs": [],
   "source": [
    "def ds(s):\n",
    "    return european_put(5, s) "
   ]
  },
  {
   "cell_type": "markdown",
   "id": "87ddd913",
   "metadata": {},
   "source": [
    "# Recursive Solution"
   ]
  },
  {
   "cell_type": "markdown",
   "id": "d1071bed",
   "metadata": {},
   "source": [
    "First we define the risk-neutral probabilties `p_hat` and `q_hat`"
   ]
  },
  {
   "cell_type": "code",
   "execution_count": 35,
   "id": "0c0618bf",
   "metadata": {},
   "outputs": [],
   "source": [
    "p_hat = (1 + r - d) / (u - d)\n",
    "q_hat = (u - 1 - r) / (u - d)\n",
    "assert p_hat + q_hat == 1"
   ]
  },
  {
   "cell_type": "markdown",
   "id": "40ea7a7f",
   "metadata": {},
   "source": [
    "Next we follow the recursive formulas presented in the book. Note that a DP/backwards-recursion approach or a memoization approach could be used to speed up the recursion. "
   ]
  },
  {
   "cell_type": "code",
   "execution_count": 36,
   "id": "1304f2db",
   "metadata": {},
   "outputs": [],
   "source": [
    "def get_portfolio(s0):\n",
    "    \"\"\"\n",
    "    Returns a tuple:\n",
    "        - value that the derivative security should be sold at\n",
    "        - how much stock you should hold\n",
    "    such that taking this action will guarantee you match the ds.   \n",
    "    \"\"\"\n",
    "\n",
    "    def recurse_value(s, t):\n",
    "        \"\"\"\n",
    "        Recursively calculate the value of the portfolio when the stock is at \n",
    "        value s at time t. \n",
    "        \"\"\"\n",
    "        if (t == N):\n",
    "            return ds(s)\n",
    "\n",
    "        return 1 / (1 + r) * (p_hat * recurse_value(s * u, t+1) + q_hat * recurse_value(s * d, t+1))\n",
    "    \n",
    "    v0 = recurse_value(s0, 0)\n",
    "    delta0 = (recurse_value(s0 * u, 1) - recurse_value(s0 * d, 1)) / (u * s0 - d * s0)\n",
    "    return v0, delta0"
   ]
  },
  {
   "cell_type": "markdown",
   "id": "7aacc38e",
   "metadata": {},
   "source": [
    "Calling the function gives us:\n",
    "1. The value the ds should be sold at\n",
    "2. How much stock you should HOLD in order to hedge your bet. If you begin with 0 of that stock, a positive value indiciates that you should buy that stock and a negative value indicates that you should short (i.e. borrow those number of shares and sell them -> u owe stock) "
   ]
  },
  {
   "cell_type": "code",
   "execution_count": 38,
   "id": "6ea3b04c",
   "metadata": {},
   "outputs": [
    {
     "name": "stdout",
     "output_type": "stream",
     "text": [
      "You should sell the derivative security at $0.864, and short 0.200 amount of the stock\n"
     ]
    }
   ],
   "source": [
    "sell_price, stock_hold = get_portfolio(s0)\n",
    "verb = \"buy\" if stock_hold > 0 else \"short\"\n",
    "print(f\"You should sell the derivative security at ${sell_price:.3f}, and {verb} {abs(stock_hold):.3f} amount of the stock\")"
   ]
  },
  {
   "cell_type": "markdown",
   "id": "34c06b93",
   "metadata": {},
   "source": [
    "# Verifying Results"
   ]
  },
  {
   "cell_type": "markdown",
   "id": "5050de8a",
   "metadata": {},
   "source": [
    "Let's work through the math to verify that we got as our answer makes intuitive sense"
   ]
  },
  {
   "cell_type": "markdown",
   "id": "6d5252cd",
   "metadata": {},
   "source": [
    "1. Actions at Time 0:\n",
    "- We sell the DS for $0.864\n",
    "- We short .2 of the stock, gaining .2 * 4 = $0.8\n",
    "- Thus, our total money is `$1.664` and we owe `.2` stock to the person we borrowed from\n",
    "\n"
   ]
  },
  {
   "cell_type": "markdown",
   "id": "192b4f87",
   "metadata": {},
   "source": []
  }
 ],
 "metadata": {
  "kernelspec": {
   "display_name": "stoch",
   "language": "python",
   "name": "python3"
  },
  "language_info": {
   "codemirror_mode": {
    "name": "ipython",
    "version": 3
   },
   "file_extension": ".py",
   "mimetype": "text/x-python",
   "name": "python",
   "nbconvert_exporter": "python",
   "pygments_lexer": "ipython3",
   "version": "3.13.4"
  }
 },
 "nbformat": 4,
 "nbformat_minor": 5
}
